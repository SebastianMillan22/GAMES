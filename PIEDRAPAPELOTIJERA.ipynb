
      "source": [
        "import random\n",
        "\n",
        "Lista = [\"Piedra\", \"Papel\", \"Tijeras\"]\n",
        "sep = \"-\" * 15\n",
        "\n",
        "while True:\n",
        "  x = str(input(\"¿Piedra, Papel o Tijera?: \"))\n",
        "  if x not in Lista:\n",
        "   print(\"Error - Opción no valida, Intenta escribir las opciones como las vez.\")\n",
        "   continue\n",
        "  eleccion = random.choice(Lista)\n",
        "  print(\"La PC ha seleccionado\", eleccion)\n",
        "  if x == eleccion:\n",
        "    print(\"Empate, ambos eligieron\", eleccion)\n",
        "  elif x == \"Piedra\" and eleccion == \"Tijera\":\n",
        "    print(\"Ganaste\", x, \"gana en contra de\", eleccion)\n",
        "  elif x == \"Tijeras\" and eleccion == \"Papel\":\n",
        "    print(\"Ganaste\", x, \"gana en contra de\", eleccion)\n",
        "  elif x == \"Papel\" and eleccion == \"Piedra\":\n",
        "    print(\"Ganaste\", x, \"gana en contra de\", eleccion)\n",
        "  else:\n",
        "    print(\"Perdiste\", x, \"pierde contra\", eleccion)\n",
        "  print ( sep, \"Fin del juego\", sep)"
      ]
    },
    {
      "cell_type": "code",
      "execution_count": null,
      "metadata": {
        "colab": {
          "base_uri": "https://localhost:8080/"
        },
        "id": "RDcsCXaRCJ8m",
        "outputId": "bc59bb2b-238d-44a5-952a-3b342cd73d5e"
      },
      "outputs": [
        {
          "output_type": "stream",
          "name": "stdout",
          "text": [
            "Elije Piedra, Papel o Tijera: piedra\n",
            "Error - Opción no valida, Intenta escribir las opciones como las vez.\n",
            "Elije Piedra, Papel o Tijera: Piedra\n",
            "La PC ha seleccionado Papel\n",
            "Perdiste Piedra pierde contra Papel\n",
            "--------------- Fin del juego ---------------\n"
          ]
        }
      ],
      "source": [
        "import random \n",
        "\n",
        "op = [\"Piedra\", \"Papel\", \"Tijera\"]\n",
        "sep = \"-\" * 15\n",
        "\n",
        "while True:\n",
        "  user = input(\"Elije Piedra, Papel o Tijera: \")\n",
        "  if user not in op:\n",
        "    print(\"Error - Opción no valida, Intenta escribir las opciones como las vez.\")\n",
        "    continue\n",
        "  pc = random.choice(op)\n",
        "  print(\"La PC ha seleccionado\", pc)\n",
        "  if user == pc:\n",
        "    print(\"Empate, ambos eligieron\", pc)\n",
        "  elif user == \"Piedra\" and pc == \"Tijera\":\n",
        "    print(\"Ganaste\", user, \"gana en contra de\", pc)\n",
        "  elif user == \"Tijeras\" and pc == \"Papel\":\n",
        "    print(\"Ganaste\", user, \"gana en contra de\", pc)\n",
        "  elif user == \"Papel\" and pc == \"Piedra\":\n",
        "    print(\"Ganaste\", user, \"gana en contra de\", pc)\n",
        "  else:\n",
        "    print(\"Perdiste\", user, \"pierde contra\", pc)\n",
        "  print ( sep, \"Fin del juego\", sep)"
      ]
    }
  ],
  "metadata": {
    "colab": {
      "name": "Untitled0.ipynb",
      "provenance": []
    },
    "kernelspec": {
      "display_name": "Python 3",
      "name": "python3"
    },
    "language_info": {
      "name": "python"
    }
  },
  "nbformat": 4,
  "nbformat_minor": 0
}
